{
 "cells": [
  {
   "attachments": {},
   "cell_type": "markdown",
   "id": "28a9bc22",
   "metadata": {
    "papermill": {
     "duration": 0.004836,
     "end_time": "2023-02-26T18:20:33.518827",
     "exception": false,
     "start_time": "2023-02-26T18:20:33.513991",
     "status": "completed"
    },
    "tags": []
   },
   "source": [
    "# C8Steerable CNN\n"
   ]
  },
  {
   "cell_type": "code",
   "execution_count": 1,
   "id": "4913b545",
   "metadata": {
    "execution": {
     "iopub.execute_input": "2023-07-20T17:12:35.244759Z",
     "iopub.status.busy": "2023-07-20T17:12:35.244506Z",
     "iopub.status.idle": "2023-07-20T17:15:18.680963Z",
     "shell.execute_reply": "2023-07-20T17:15:18.678340Z"
    }
   },
   "outputs": [
    {
     "name": "stderr",
     "output_type": "stream",
     "text": [
      "Downloading...\n",
      "From (uriginal): https://drive.google.com/uc?id=1QMVLpqag6S9JWqzmGM_pK4C0F1eBVIfV\n",
      "From (redirected): https://drive.google.com/uc?id=1QMVLpqag6S9JWqzmGM_pK4C0F1eBVIfV&confirm=t&uuid=50369c86-3a81-4cd8-8305-3182ce2d9e87\n",
      "To: /opt/repo/GSoC-23/data/Model_I.tgz\n",
      "100%|██████████| 1.99G/1.99G [00:34<00:00, 57.3MB/s]\n",
      "Downloading...\n",
      "From (uriginal): https://drive.google.com/uc?id=1rUAKLLS3p9jDaL9R9m84JVKvMcUuVsO1\n",
      "From (redirected): https://drive.google.com/uc?id=1rUAKLLS3p9jDaL9R9m84JVKvMcUuVsO1&confirm=t&uuid=b38169b4-19fb-4c45-a09b-235fb366961b\n",
      "To: /opt/repo/GSoC-23/data/Model_I_test.tgz\n",
      "100%|██████████| 340M/340M [00:09<00:00, 37.6MB/s]\n"
     ]
    }
   ],
   "source": [
    "try:\n",
    "    done\n",
    "except:\n",
    "    import os\n",
    "\n",
    "    os.chdir(\"../../\")\n",
    "    from utils.download import download\n",
    "    from utils.extract import extract\n",
    "\n",
    "    args = {\"model\": \"Model-1\"}\n",
    "    download(args)\n",
    "    extract(\"data/Model_I.tgz\", \"data/\")\n",
    "    extract(\"data/Model_I_test.tgz\", \"data/\")\n",
    "    done = True"
   ]
  },
  {
   "cell_type": "code",
   "execution_count": 2,
   "id": "7db64282",
   "metadata": {
    "_cell_guid": "b1076dfc-b9ad-4769-8c92-a6c4dae69d19",
    "_uuid": "8f2839f25d086af736a60e9eeb907d3b93b6e0e5",
    "execution": {
     "iopub.execute_input": "2023-07-20T17:15:18.685575Z",
     "iopub.status.busy": "2023-07-20T17:15:18.685319Z",
     "iopub.status.idle": "2023-07-20T17:15:21.958761Z",
     "shell.execute_reply": "2023-07-20T17:15:21.957986Z"
    },
    "papermill": {
     "duration": 4.22969,
     "end_time": "2023-02-26T18:20:37.753361",
     "exception": false,
     "start_time": "2023-02-26T18:20:33.523671",
     "status": "completed"
    },
    "tags": []
   },
   "outputs": [],
   "source": [
    "import gc\n",
    "import copy\n",
    "import warnings\n",
    "\n",
    "import matplotlib.pyplot as plt\n",
    "import numpy as np\n",
    "import torch\n",
    "import torch.optim as optim\n",
    "import torchvision.datasets as datasets\n",
    "import torchvision.transforms as transforms\n",
    "\n",
    "from itertools import cycle\n",
    "from PIL import Image\n",
    "from sklearn.metrics import (\n",
    "    auc,\n",
    "    confusion_matrix,\n",
    "    ConfusionMatrixDisplay,\n",
    "    roc_auc_score,\n",
    "    roc_curve,\n",
    ")\n",
    "from torch import optim\n",
    "from torch.utils.data import DataLoader\n",
    "from torchvision import datasets, transforms\n",
    "\n",
    "\n",
    "from tqdm import tqdm\n",
    "\n",
    "warnings.filterwarnings(\"ignore\")"
   ]
  },
  {
   "attachments": {},
   "cell_type": "markdown",
   "id": "8b7df613",
   "metadata": {
    "papermill": {
     "duration": 0.00477,
     "end_time": "2023-02-26T18:20:37.763344",
     "exception": false,
     "start_time": "2023-02-26T18:20:37.758574",
     "status": "completed"
    },
    "tags": []
   },
   "source": [
    "# Data Preparation\n"
   ]
  },
  {
   "cell_type": "code",
   "execution_count": 3,
   "id": "98c728a5",
   "metadata": {
    "execution": {
     "iopub.execute_input": "2023-07-20T17:15:21.962249Z",
     "iopub.status.busy": "2023-07-20T17:15:21.961897Z",
     "iopub.status.idle": "2023-07-20T17:15:21.966857Z",
     "shell.execute_reply": "2023-07-20T17:15:21.966214Z"
    }
   },
   "outputs": [],
   "source": [
    "train_transforms = transforms.Compose([\n",
    "    transforms.RandomRotation(180),\n",
    "    transforms.ColorJitter(brightness=(0.8, 1.2)),\n",
    "    transforms.Resize(128),\n",
    "    transforms.Grayscale(num_output_channels=1),\n",
    "    transforms.ToTensor()\n",
    "])\n",
    "\n",
    "test_transforms = transforms.Compose([\n",
    "    transforms.Resize(128),\n",
    "    transforms.Grayscale(num_output_channels=1),\n",
    "    transforms.ToTensor()\n",
    "])"
   ]
  },
  {
   "cell_type": "code",
   "execution_count": 4,
   "id": "d9d9d269",
   "metadata": {
    "execution": {
     "iopub.execute_input": "2023-07-20T17:15:21.969689Z",
     "iopub.status.busy": "2023-07-20T17:15:21.969436Z",
     "iopub.status.idle": "2023-07-20T17:15:22.254192Z",
     "shell.execute_reply": "2023-07-20T17:15:22.253495Z"
    },
    "papermill": {
     "duration": 0.018594,
     "end_time": "2023-02-26T18:20:37.786759",
     "exception": false,
     "start_time": "2023-02-26T18:20:37.768165",
     "status": "completed"
    },
    "tags": []
   },
   "outputs": [],
   "source": [
    "def npy_loader(path):\n",
    "    if 'axion' in path:\n",
    "        sample = np.load(path, allow_pickle=True)[0]\n",
    "    else:\n",
    "        sample = np.load(path, allow_pickle=True)\n",
    "    sample = 255 * (sample / sample.max())\n",
    "    sample = Image.fromarray(sample.astype('uint8')).convert(\"RGB\")\n",
    "    return sample\n",
    "    \n",
    "\n",
    "trainset = datasets.DatasetFolder(\n",
    "    root='data/Model_I',\n",
    "    loader=npy_loader,\n",
    "    extensions=['.npy'],\n",
    "    transform = train_transforms\n",
    ")\n",
    "\n",
    "testset = datasets.DatasetFolder(\n",
    "    root='data/Model_I_test',\n",
    "    loader=npy_loader,\n",
    "    extensions=['.npy'],\n",
    "    transform = test_transforms\n",
    ")\n",
    "train_loader = torch.utils.data.DataLoader(trainset, batch_size=64,shuffle=True)\n",
    "test_loader = torch.utils.data.DataLoader(testset, batch_size=64,shuffle=True)"
   ]
  },
  {
   "cell_type": "code",
   "execution_count": 5,
   "id": "c541bb71",
   "metadata": {
    "execution": {
     "iopub.execute_input": "2023-07-20T17:15:22.257456Z",
     "iopub.status.busy": "2023-07-20T17:15:22.257196Z",
     "iopub.status.idle": "2023-07-20T17:15:22.316889Z",
     "shell.execute_reply": "2023-07-20T17:15:22.316212Z"
    },
    "papermill": {
     "duration": 0.288414,
     "end_time": "2023-02-26T18:20:38.079912",
     "exception": false,
     "start_time": "2023-02-26T18:20:37.791498",
     "status": "completed"
    },
    "tags": []
   },
   "outputs": [],
   "source": [
    "lr = 0.0001\n",
    "epochs = 30\n",
    "gamma = 0.5\n",
    "batch_size = 64\n",
    "device = \"cuda\" if torch.cuda.is_available() else \"cpu\""
   ]
  },
  {
   "attachments": {},
   "cell_type": "markdown",
   "id": "337703e9",
   "metadata": {
    "papermill": {
     "duration": 0.005167,
     "end_time": "2023-02-26T18:20:38.096424",
     "exception": false,
     "start_time": "2023-02-26T18:20:38.091257",
     "status": "completed"
    },
    "tags": []
   },
   "source": [
    "# Model\n"
   ]
  },
  {
   "cell_type": "code",
   "execution_count": 6,
   "id": "40b37984",
   "metadata": {
    "execution": {
     "iopub.execute_input": "2023-07-20T17:15:22.319958Z",
     "iopub.status.busy": "2023-07-20T17:15:22.319702Z",
     "iopub.status.idle": "2023-07-20T17:15:24.637653Z",
     "shell.execute_reply": "2023-07-20T17:15:24.636485Z"
    },
    "papermill": {
     "duration": 0.028747,
     "end_time": "2023-02-26T18:20:38.130529",
     "exception": false,
     "start_time": "2023-02-26T18:20:38.101782",
     "status": "completed"
    },
    "tags": []
   },
   "outputs": [],
   "source": [
    "from models import coordinates, networks, transformers, ET\n",
    "\n",
    "tf_default_opts = {\n",
    "    \"in_channels\": 1,\n",
    "    \"kernel_size\": 3,\n",
    "    \"nf\": 32,\n",
    "    \"strides\": (2, 1),\n",
    "}\n",
    "\n",
    "# classification network defaults\n",
    "net_default_opts = {\n",
    "    \"input_channels\": 1,\n",
    "    \"output_size\": 3,\n",
    "    \"nf\": 32,\n",
    "    \"p_dropout\": 0.3,\n",
    "    \"pad_mode\": (None, \"cyclic\"),\n",
    "    \"pool\": (True, True, False),\n",
    "}\n",
    "\n",
    "ET_ = ET(\n",
    "    tfs=[\n",
    "        transformers.ShearX,\n",
    "        transformers.HyperbolicRotation,\n",
    "        transformers.PerspectiveX,\n",
    "        transformers.PerspectiveY,\n",
    "    ],\n",
    "    coords=coordinates.logpolar_grid,\n",
    "    net=networks.BasicCNN,\n",
    "    equivariant=True,\n",
    "    tf_opts=tf_default_opts,\n",
    "    net_opts=net_default_opts,\n",
    ")\n",
    "ET_.model = ET_.model.to(device)\n",
    "criterion = torch.nn.CrossEntropyLoss()\n",
    "optimizer = optim.Adam(ET_.model.parameters(), lr=lr)\n",
    "scheduler = optim.lr_scheduler.StepLR(optimizer, step_size=10, gamma=gamma)"
   ]
  },
  {
   "attachments": {},
   "cell_type": "markdown",
   "id": "6d5d9ce7",
   "metadata": {
    "papermill": {
     "duration": 0.004681,
     "end_time": "2023-02-26T18:20:49.389497",
     "exception": false,
     "start_time": "2023-02-26T18:20:49.384816",
     "status": "completed"
    },
    "tags": []
   },
   "source": [
    "# Training\n"
   ]
  },
  {
   "cell_type": "code",
   "execution_count": 7,
   "id": "b6bd0abb",
   "metadata": {
    "execution": {
     "iopub.execute_input": "2023-07-20T17:15:24.641909Z",
     "iopub.status.busy": "2023-07-20T17:15:24.641408Z",
     "iopub.status.idle": "2023-07-20T20:10:39.542254Z",
     "shell.execute_reply": "2023-07-20T20:10:39.541425Z"
    },
    "papermill": {
     "duration": 1134.918433,
     "end_time": "2023-02-26T18:39:44.312733",
     "exception": false,
     "start_time": "2023-02-26T18:20:49.394300",
     "status": "completed"
    },
    "tags": []
   },
   "outputs": [
    {
     "name": "stderr",
     "output_type": "stream",
     "text": [
      "100%|██████████| 1368/1368 [05:23<00:00,  4.23it/s]\n",
      "100%|██████████| 235/235 [00:29<00:00,  7.99it/s]\n"
     ]
    },
    {
     "name": "stdout",
     "output_type": "stream",
     "text": [
      "Epoch : 1 - loss : 1.0953 - acc: 37.2237% - val_loss : 1.0792 - val_acc: 39.9533%\n"
     ]
    },
    {
     "name": "stderr",
     "output_type": "stream",
     "text": [
      "100%|██████████| 1368/1368 [05:16<00:00,  4.33it/s]\n",
      "100%|██████████| 235/235 [00:28<00:00,  8.30it/s]\n"
     ]
    },
    {
     "name": "stdout",
     "output_type": "stream",
     "text": [
      "Epoch : 2 - loss : 1.0742 - acc: 40.1280% - val_loss : 1.0617 - val_acc: 42.2267%\n"
     ]
    },
    {
     "name": "stderr",
     "output_type": "stream",
     "text": [
      "100%|██████████| 1368/1368 [05:17<00:00,  4.30it/s]\n",
      "100%|██████████| 235/235 [00:29<00:00,  7.97it/s]\n"
     ]
    },
    {
     "name": "stdout",
     "output_type": "stream",
     "text": [
      "Epoch : 3 - loss : 1.0466 - acc: 43.1408% - val_loss : 1.0272 - val_acc: 44.9133%\n"
     ]
    },
    {
     "name": "stderr",
     "output_type": "stream",
     "text": [
      "100%|██████████| 1368/1368 [05:23<00:00,  4.22it/s]\n",
      "100%|██████████| 235/235 [00:28<00:00,  8.22it/s]\n"
     ]
    },
    {
     "name": "stdout",
     "output_type": "stream",
     "text": [
      "Epoch : 4 - loss : 0.9966 - acc: 46.8563% - val_loss : 0.9443 - val_acc: 50.1933%\n"
     ]
    },
    {
     "name": "stderr",
     "output_type": "stream",
     "text": [
      "100%|██████████| 1368/1368 [05:19<00:00,  4.29it/s]\n",
      "100%|██████████| 235/235 [00:28<00:00,  8.25it/s]\n"
     ]
    },
    {
     "name": "stdout",
     "output_type": "stream",
     "text": [
      "Epoch : 5 - loss : 0.8906 - acc: 54.4439% - val_loss : 0.8379 - val_acc: 58.2867%\n"
     ]
    },
    {
     "name": "stderr",
     "output_type": "stream",
     "text": [
      "100%|██████████| 1368/1368 [05:19<00:00,  4.28it/s]\n",
      "100%|██████████| 235/235 [00:28<00:00,  8.15it/s]\n"
     ]
    },
    {
     "name": "stdout",
     "output_type": "stream",
     "text": [
      "Epoch : 6 - loss : 0.8326 - acc: 58.9237% - val_loss : 0.7645 - val_acc: 63.9600%\n"
     ]
    },
    {
     "name": "stderr",
     "output_type": "stream",
     "text": [
      "100%|██████████| 1368/1368 [05:21<00:00,  4.25it/s]\n",
      "100%|██████████| 235/235 [00:28<00:00,  8.13it/s]\n"
     ]
    },
    {
     "name": "stdout",
     "output_type": "stream",
     "text": [
      "Epoch : 7 - loss : 0.7326 - acc: 66.9317% - val_loss : 0.6263 - val_acc: 73.8667%\n"
     ]
    },
    {
     "name": "stderr",
     "output_type": "stream",
     "text": [
      "100%|██████████| 1368/1368 [05:21<00:00,  4.25it/s]\n",
      "100%|██████████| 235/235 [00:28<00:00,  8.24it/s]\n"
     ]
    },
    {
     "name": "stdout",
     "output_type": "stream",
     "text": [
      "Epoch : 8 - loss : 0.6174 - acc: 74.3867% - val_loss : 0.5317 - val_acc: 78.8000%\n"
     ]
    },
    {
     "name": "stderr",
     "output_type": "stream",
     "text": [
      "100%|██████████| 1368/1368 [05:22<00:00,  4.24it/s]\n",
      "100%|██████████| 235/235 [00:28<00:00,  8.12it/s]\n"
     ]
    },
    {
     "name": "stdout",
     "output_type": "stream",
     "text": [
      "Epoch : 9 - loss : 0.5560 - acc: 77.6075% - val_loss : 0.5030 - val_acc: 80.0600%\n"
     ]
    },
    {
     "name": "stderr",
     "output_type": "stream",
     "text": [
      "100%|██████████| 1368/1368 [05:23<00:00,  4.23it/s]\n",
      "100%|██████████| 235/235 [00:28<00:00,  8.12it/s]\n"
     ]
    },
    {
     "name": "stdout",
     "output_type": "stream",
     "text": [
      "Epoch : 10 - loss : 0.5177 - acc: 79.4664% - val_loss : 0.4398 - val_acc: 83.1867%\n"
     ]
    },
    {
     "name": "stderr",
     "output_type": "stream",
     "text": [
      "100%|██████████| 1368/1368 [05:22<00:00,  4.24it/s]\n",
      "100%|██████████| 235/235 [00:28<00:00,  8.23it/s]\n"
     ]
    },
    {
     "name": "stdout",
     "output_type": "stream",
     "text": [
      "Epoch : 11 - loss : 0.4547 - acc: 82.4119% - val_loss : 0.4067 - val_acc: 84.4667%\n"
     ]
    },
    {
     "name": "stderr",
     "output_type": "stream",
     "text": [
      "100%|██████████| 1368/1368 [05:22<00:00,  4.25it/s]\n",
      "100%|██████████| 235/235 [00:28<00:00,  8.16it/s]\n"
     ]
    },
    {
     "name": "stdout",
     "output_type": "stream",
     "text": [
      "Epoch : 12 - loss : 0.4348 - acc: 83.2528% - val_loss : 0.4069 - val_acc: 84.6667%\n"
     ]
    },
    {
     "name": "stderr",
     "output_type": "stream",
     "text": [
      "100%|██████████| 1368/1368 [05:22<00:00,  4.24it/s]\n",
      "100%|██████████| 235/235 [00:30<00:00,  7.75it/s]\n"
     ]
    },
    {
     "name": "stdout",
     "output_type": "stream",
     "text": [
      "Epoch : 13 - loss : 0.4221 - acc: 83.8720% - val_loss : 0.3755 - val_acc: 86.2467%\n"
     ]
    },
    {
     "name": "stderr",
     "output_type": "stream",
     "text": [
      "100%|██████████| 1368/1368 [05:23<00:00,  4.23it/s]\n",
      "100%|██████████| 235/235 [00:28<00:00,  8.26it/s]\n"
     ]
    },
    {
     "name": "stdout",
     "output_type": "stream",
     "text": [
      "Epoch : 14 - loss : 0.4110 - acc: 84.3965% - val_loss : 0.3597 - val_acc: 86.7333%\n"
     ]
    },
    {
     "name": "stderr",
     "output_type": "stream",
     "text": [
      "100%|██████████| 1368/1368 [05:19<00:00,  4.29it/s]\n",
      "100%|██████████| 235/235 [00:29<00:00,  8.07it/s]\n"
     ]
    },
    {
     "name": "stdout",
     "output_type": "stream",
     "text": [
      "Epoch : 15 - loss : 0.3990 - acc: 84.7381% - val_loss : 0.3545 - val_acc: 86.9067%\n"
     ]
    },
    {
     "name": "stderr",
     "output_type": "stream",
     "text": [
      "100%|██████████| 1368/1368 [05:21<00:00,  4.26it/s]\n",
      "100%|██████████| 235/235 [00:28<00:00,  8.17it/s]\n"
     ]
    },
    {
     "name": "stdout",
     "output_type": "stream",
     "text": [
      "Epoch : 16 - loss : 0.3865 - acc: 85.3482% - val_loss : 0.3457 - val_acc: 87.0933%\n"
     ]
    },
    {
     "name": "stderr",
     "output_type": "stream",
     "text": [
      "100%|██████████| 1368/1368 [05:24<00:00,  4.22it/s]\n",
      "100%|██████████| 235/235 [00:28<00:00,  8.18it/s]\n"
     ]
    },
    {
     "name": "stdout",
     "output_type": "stream",
     "text": [
      "Epoch : 17 - loss : 0.3778 - acc: 85.6601% - val_loss : 0.3278 - val_acc: 87.7000%\n"
     ]
    },
    {
     "name": "stderr",
     "output_type": "stream",
     "text": [
      "100%|██████████| 1368/1368 [05:23<00:00,  4.23it/s]\n",
      "100%|██████████| 235/235 [00:28<00:00,  8.16it/s]\n"
     ]
    },
    {
     "name": "stdout",
     "output_type": "stream",
     "text": [
      "Epoch : 18 - loss : 0.3620 - acc: 86.3330% - val_loss : 0.3104 - val_acc: 88.3533%\n"
     ]
    },
    {
     "name": "stderr",
     "output_type": "stream",
     "text": [
      "100%|██████████| 1368/1368 [05:22<00:00,  4.24it/s]\n",
      "100%|██████████| 235/235 [00:28<00:00,  8.20it/s]\n"
     ]
    },
    {
     "name": "stdout",
     "output_type": "stream",
     "text": [
      "Epoch : 19 - loss : 0.3584 - acc: 86.4839% - val_loss : 0.3060 - val_acc: 88.7067%\n"
     ]
    },
    {
     "name": "stderr",
     "output_type": "stream",
     "text": [
      "100%|██████████| 1368/1368 [05:23<00:00,  4.23it/s]\n",
      "100%|██████████| 235/235 [00:28<00:00,  8.22it/s]\n"
     ]
    },
    {
     "name": "stdout",
     "output_type": "stream",
     "text": [
      "Epoch : 20 - loss : 0.3502 - acc: 86.5924% - val_loss : 0.2979 - val_acc: 88.9600%\n"
     ]
    },
    {
     "name": "stderr",
     "output_type": "stream",
     "text": [
      "100%|██████████| 1368/1368 [05:22<00:00,  4.24it/s]\n",
      "100%|██████████| 235/235 [00:28<00:00,  8.19it/s]\n"
     ]
    },
    {
     "name": "stdout",
     "output_type": "stream",
     "text": [
      "Epoch : 21 - loss : 0.3289 - acc: 87.5350% - val_loss : 0.2794 - val_acc: 89.5667%\n"
     ]
    },
    {
     "name": "stderr",
     "output_type": "stream",
     "text": [
      "100%|██████████| 1368/1368 [05:24<00:00,  4.22it/s]\n",
      "100%|██████████| 235/235 [00:28<00:00,  8.17it/s]\n"
     ]
    },
    {
     "name": "stdout",
     "output_type": "stream",
     "text": [
      "Epoch : 22 - loss : 0.3218 - acc: 87.8892% - val_loss : 0.2946 - val_acc: 89.0400%\n"
     ]
    },
    {
     "name": "stderr",
     "output_type": "stream",
     "text": [
      "100%|██████████| 1368/1368 [05:22<00:00,  4.24it/s]\n",
      "100%|██████████| 235/235 [00:28<00:00,  8.16it/s]\n"
     ]
    },
    {
     "name": "stdout",
     "output_type": "stream",
     "text": [
      "Epoch : 23 - loss : 0.3199 - acc: 88.0263% - val_loss : 0.2768 - val_acc: 89.6067%\n"
     ]
    },
    {
     "name": "stderr",
     "output_type": "stream",
     "text": [
      "100%|██████████| 1368/1368 [05:23<00:00,  4.23it/s]\n",
      "100%|██████████| 235/235 [00:28<00:00,  8.21it/s]\n"
     ]
    },
    {
     "name": "stdout",
     "output_type": "stream",
     "text": [
      "Epoch : 24 - loss : 0.3151 - acc: 88.0137% - val_loss : 0.2711 - val_acc: 89.9200%\n"
     ]
    },
    {
     "name": "stderr",
     "output_type": "stream",
     "text": [
      "100%|██████████| 1368/1368 [05:23<00:00,  4.22it/s]\n",
      "100%|██████████| 235/235 [00:28<00:00,  8.23it/s]\n"
     ]
    },
    {
     "name": "stdout",
     "output_type": "stream",
     "text": [
      "Epoch : 25 - loss : 0.3115 - acc: 88.1748% - val_loss : 0.2661 - val_acc: 90.0600%\n"
     ]
    },
    {
     "name": "stderr",
     "output_type": "stream",
     "text": [
      "100%|██████████| 1368/1368 [05:20<00:00,  4.27it/s]\n",
      "100%|██████████| 235/235 [00:28<00:00,  8.36it/s]\n"
     ]
    },
    {
     "name": "stdout",
     "output_type": "stream",
     "text": [
      "Epoch : 26 - loss : 0.3074 - acc: 88.4502% - val_loss : 0.2642 - val_acc: 90.3200%\n"
     ]
    },
    {
     "name": "stderr",
     "output_type": "stream",
     "text": [
      "100%|██████████| 1368/1368 [05:17<00:00,  4.30it/s]\n",
      "100%|██████████| 235/235 [00:28<00:00,  8.30it/s]\n"
     ]
    },
    {
     "name": "stdout",
     "output_type": "stream",
     "text": [
      "Epoch : 27 - loss : 0.3057 - acc: 88.4970% - val_loss : 0.2765 - val_acc: 89.6133%\n"
     ]
    },
    {
     "name": "stderr",
     "output_type": "stream",
     "text": [
      "100%|██████████| 1368/1368 [05:18<00:00,  4.30it/s]\n",
      "100%|██████████| 235/235 [00:28<00:00,  8.30it/s]\n"
     ]
    },
    {
     "name": "stdout",
     "output_type": "stream",
     "text": [
      "Epoch : 28 - loss : 0.3024 - acc: 88.6147% - val_loss : 0.2529 - val_acc: 90.6667%\n"
     ]
    },
    {
     "name": "stderr",
     "output_type": "stream",
     "text": [
      "100%|██████████| 1368/1368 [05:20<00:00,  4.27it/s]\n",
      "100%|██████████| 235/235 [00:28<00:00,  8.39it/s]\n"
     ]
    },
    {
     "name": "stdout",
     "output_type": "stream",
     "text": [
      "Epoch : 29 - loss : 0.2977 - acc: 88.7209% - val_loss : 0.2601 - val_acc: 90.0867%\n"
     ]
    },
    {
     "name": "stderr",
     "output_type": "stream",
     "text": [
      "100%|██████████| 1368/1368 [05:20<00:00,  4.27it/s]\n",
      "100%|██████████| 235/235 [00:28<00:00,  8.21it/s]"
     ]
    },
    {
     "name": "stdout",
     "output_type": "stream",
     "text": [
      "Epoch : 30 - loss : 0.2976 - acc: 88.8432% - val_loss : 0.2500 - val_acc: 90.8733%\n"
     ]
    },
    {
     "name": "stderr",
     "output_type": "stream",
     "text": [
      "\n"
     ]
    }
   ],
   "source": [
    "all_train_loss = []\n",
    "all_test_loss = []\n",
    "all_train_accuracy = []\n",
    "all_test_accuracy = []\n",
    "\n",
    "best_accuracy = 0\n",
    "\n",
    "for epoch in range(epochs):\n",
    "    epoch_loss = 0\n",
    "    epoch_accuracy = 0\n",
    "    correct, total = 0, 0\n",
    "    ET_.model.train()\n",
    "    tr_loss_epoch = []\n",
    "    test_loss_epoch = []\n",
    "    _ep = 0\n",
    "    for data, label in tqdm(train_loader):\n",
    "        if _ep%100 == 0:\n",
    "            torch.cuda.empty_cache()\n",
    "            gc.collect()\n",
    "        data = data.to(device)\n",
    "        label = label.to(device)\n",
    "\n",
    "        output = ET_.model(data)\n",
    "        loss = criterion(output, label)\n",
    "        tr_loss_epoch.append(loss.item())\n",
    "        optimizer.zero_grad()\n",
    "        loss.backward()\n",
    "        optimizer.step()\n",
    "        acc = (output.argmax(dim=1) == label).sum()\n",
    "        correct += acc.item()\n",
    "        total += len(label)\n",
    "\n",
    "        epoch_loss += loss.item() / len(train_loader)\n",
    "        _ep += 1\n",
    "    scheduler.step()\n",
    "    all_train_loss.append(np.asarray(tr_loss_epoch))\n",
    "    all_train_accuracy.append(correct / total * 100)\n",
    "    epoch_accuracy = (correct / total) * 100\n",
    "    correct, total = 0, 0\n",
    "\n",
    "    torch.cuda.empty_cache()\n",
    "    with torch.no_grad():\n",
    "        epoch_val_accuracy = 0\n",
    "        epoch_val_loss = 0\n",
    "        for data, label in tqdm(test_loader):\n",
    "            data = data.to(device)\n",
    "            label = label.to(device)\n",
    "\n",
    "            val_output = ET_.model(data)\n",
    "            val_loss = criterion(val_output, label)\n",
    "            test_loss_epoch.append(val_loss.item())\n",
    "            acc = (val_output.argmax(dim=1) == label).sum()\n",
    "            correct += acc.item()\n",
    "            total += len(label)\n",
    "\n",
    "            epoch_val_loss += val_loss / len(test_loader)\n",
    "        all_test_loss.append(np.asarray(test_loss_epoch))\n",
    "        all_test_accuracy.append(correct / total * 100)\n",
    "    epoch_val_accuracy = (correct / total) * 100\n",
    "\n",
    "    if epoch_val_accuracy > best_accuracy:\n",
    "        best_accuracy = epoch_val_accuracy\n",
    "        best_model = copy.deepcopy(ET_)\n",
    "\n",
    "    print(\n",
    "        f\"Epoch : {epoch+1} - loss : {epoch_loss:.4f} - acc: {epoch_accuracy:.4f}% - val_loss : {epoch_val_loss:.4f} - val_acc: {epoch_val_accuracy:.4f}%\"\n",
    "    )\n",
    "ET_._save(\"equi_nn.pth\")\n",
    "all_train_loss_mean = [j.mean() for j in all_train_loss]\n",
    "all_test_loss_mean = [j.mean() for j in all_test_loss]"
   ]
  },
  {
   "attachments": {},
   "cell_type": "markdown",
   "id": "c6ed3fe3",
   "metadata": {
    "papermill": {
     "duration": 0.088846,
     "end_time": "2023-02-26T18:39:44.489827",
     "exception": false,
     "start_time": "2023-02-26T18:39:44.400981",
     "status": "completed"
    },
    "tags": []
   },
   "source": [
    "# Plotting Loss and Accuracy\n"
   ]
  },
  {
   "cell_type": "code",
   "execution_count": 8,
   "id": "63766ee9",
   "metadata": {
    "execution": {
     "iopub.execute_input": "2023-07-20T20:10:39.546188Z",
     "iopub.status.busy": "2023-07-20T20:10:39.545918Z",
     "iopub.status.idle": "2023-07-20T20:10:40.417957Z",
     "shell.execute_reply": "2023-07-20T20:10:40.417334Z"
    },
    "papermill": {
     "duration": 0.608392,
     "end_time": "2023-02-26T18:39:45.185365",
     "exception": false,
     "start_time": "2023-02-26T18:39:44.576973",
     "status": "completed"
    },
    "tags": []
   },
   "outputs": [
    {
     "data": {
      "text/plain": [
       "[<matplotlib.lines.Line2D at 0x7fa77077ded0>]"
      ]
     },
     "execution_count": 8,
     "metadata": {},
     "output_type": "execute_result"
    },
    {
     "data": {
      "image/png": "[encoded data removed]",
      "text/plain": [
       "<Figure size 1200x800 with 4 Axes>"
      ]
     },
     "metadata": {},
     "output_type": "display_data"
    }
   ],
   "source": [
    "figure = plt.figure(figsize=(12, 8))\n",
    "cols, rows = 2, 2\n",
    "figure.add_subplot(rows, cols, 1)\n",
    "plt.title(\"Train loss Mean\")\n",
    "plt.plot(all_train_loss_mean)\n",
    "figure.add_subplot(rows, cols, 2)\n",
    "plt.title(\"Test loss Mean\")\n",
    "plt.plot(all_test_loss_mean)\n",
    "figure.add_subplot(rows, cols, 3)\n",
    "plt.title(\"Train accuracy Mean\")\n",
    "plt.plot(all_train_accuracy)\n",
    "figure.add_subplot(rows, cols, 4)\n",
    "plt.title(\"Test accuracy Mean\")\n",
    "plt.plot(all_test_accuracy)"
   ]
  },
  {
   "attachments": {},
   "cell_type": "markdown",
   "id": "71719fa2",
   "metadata": {
    "papermill": {
     "duration": 0.097537,
     "end_time": "2023-02-26T18:39:45.372772",
     "exception": false,
     "start_time": "2023-02-26T18:39:45.275235",
     "status": "completed"
    },
    "tags": []
   },
   "source": [
    "# Loading Best Model\n"
   ]
  },
  {
   "cell_type": "code",
   "execution_count": 9,
   "id": "d07b2629",
   "metadata": {
    "execution": {
     "iopub.execute_input": "2023-07-20T20:10:40.421126Z",
     "iopub.status.busy": "2023-07-20T20:10:40.420878Z",
     "iopub.status.idle": "2023-07-20T20:10:40.452499Z",
     "shell.execute_reply": "2023-07-20T20:10:40.451817Z"
    },
    "papermill": {
     "duration": 0.167712,
     "end_time": "2023-02-26T18:39:45.629158",
     "exception": false,
     "start_time": "2023-02-26T18:39:45.461446",
     "status": "completed"
    },
    "tags": []
   },
   "outputs": [],
   "source": [
    "ET_ = ET(\n",
    "    tfs=[\n",
    "        transformers.ShearX,\n",
    "        transformers.HyperbolicRotation,\n",
    "        transformers.PerspectiveX,\n",
    "        transformers.PerspectiveY,\n",
    "    ],\n",
    "    coords=coordinates.logpolar_grid,\n",
    "    net=networks.BasicCNN,\n",
    "    equivariant=True,\n",
    "    tf_opts=tf_default_opts,\n",
    "    net_opts=net_default_opts,\n",
    "    load_path=\"equi_nn.pth\",\n",
    ")\n",
    "ET_.model = ET_.model.to(device)"
   ]
  },
  {
   "attachments": {},
   "cell_type": "markdown",
   "id": "4e685329",
   "metadata": {
    "papermill": {
     "duration": 0.088101,
     "end_time": "2023-02-26T18:39:45.807045",
     "exception": false,
     "start_time": "2023-02-26T18:39:45.718944",
     "status": "completed"
    },
    "tags": []
   },
   "source": [
    "# Testing\n"
   ]
  },
  {
   "cell_type": "code",
   "execution_count": 10,
   "id": "99b12bcf",
   "metadata": {
    "execution": {
     "iopub.execute_input": "2023-07-20T20:10:40.455524Z",
     "iopub.status.busy": "2023-07-20T20:10:40.455181Z",
     "iopub.status.idle": "2023-07-20T20:11:07.149171Z",
     "shell.execute_reply": "2023-07-20T20:11:07.148339Z"
    },
    "papermill": {
     "duration": 4.256545,
     "end_time": "2023-02-26T18:39:50.151060",
     "exception": false,
     "start_time": "2023-02-26T18:39:45.894515",
     "status": "completed"
    },
    "tags": []
   },
   "outputs": [
    {
     "name": "stderr",
     "output_type": "stream",
     "text": [
      "100%|██████████| 235/235 [00:26<00:00,  8.81it/s]\n"
     ]
    }
   ],
   "source": [
    "true_label, pred_label, pred_score, one_hot = [], [], [], []\n",
    "with torch.no_grad():\n",
    "    ET_.model.eval()\n",
    "    for i, (x, y) in enumerate(tqdm(test_loader)):\n",
    "        x = x.to(device)\n",
    "        y = y.to(device)\n",
    "        _y = ET_.model(x)\n",
    "\n",
    "        _, pred = torch.max(_y.data, 1)\n",
    "        true_label += y.tolist()\n",
    "        pred_label += pred.tolist()\n",
    "        pred_score += _y.tolist()\n",
    "        one_hot += np.eye(3)[y.cpu().numpy()].tolist()"
   ]
  },
  {
   "attachments": {},
   "cell_type": "markdown",
   "id": "ddda1893",
   "metadata": {
    "papermill": {
     "duration": 0.138248,
     "end_time": "2023-02-26T18:39:50.468855",
     "exception": false,
     "start_time": "2023-02-26T18:39:50.330607",
     "status": "completed"
    },
    "tags": []
   },
   "source": [
    "# Confusion Matrix\n"
   ]
  },
  {
   "cell_type": "code",
   "execution_count": 11,
   "id": "063eed06",
   "metadata": {
    "execution": {
     "iopub.execute_input": "2023-07-20T20:11:07.152553Z",
     "iopub.status.busy": "2023-07-20T20:11:07.152270Z",
     "iopub.status.idle": "2023-07-20T20:11:07.393418Z",
     "shell.execute_reply": "2023-07-20T20:11:07.392821Z"
    },
    "papermill": {
     "duration": 0.389642,
     "end_time": "2023-02-26T18:39:50.975049",
     "exception": false,
     "start_time": "2023-02-26T18:39:50.585407",
     "status": "completed"
    },
    "tags": []
   },
   "outputs": [
    {
     "data": {
      "text/plain": [
       "<sklearn.metrics._plot.confusion_matrix.ConfusionMatrixDisplay at 0x7fa770577d60>"
      ]
     },
     "execution_count": 11,
     "metadata": {},
     "output_type": "execute_result"
    },
    {
     "data": {
      "image/png": "[encoded data removed]",
      "text/plain": [
       "<Figure size 640x480 with 2 Axes>"
      ]
     },
     "metadata": {},
     "output_type": "display_data"
    }
   ],
   "source": [
    "ConfusionMatrixDisplay(confusion_matrix=confusion_matrix(true_label, pred_label)).plot()"
   ]
  },
  {
   "attachments": {},
   "cell_type": "markdown",
   "id": "6d00ac58",
   "metadata": {
    "papermill": {
     "duration": 0.144227,
     "end_time": "2023-02-26T18:39:51.259566",
     "exception": false,
     "start_time": "2023-02-26T18:39:51.115339",
     "status": "completed"
    },
    "tags": []
   },
   "source": [
    "# AUC Score\n"
   ]
  },
  {
   "cell_type": "code",
   "execution_count": 12,
   "id": "13effc9c",
   "metadata": {
    "execution": {
     "iopub.execute_input": "2023-07-20T20:11:07.396477Z",
     "iopub.status.busy": "2023-07-20T20:11:07.396230Z",
     "iopub.status.idle": "2023-07-20T20:11:07.400213Z",
     "shell.execute_reply": "2023-07-20T20:11:07.399585Z"
    },
    "papermill": {
     "duration": 0.100354,
     "end_time": "2023-02-26T18:39:51.456098",
     "exception": false,
     "start_time": "2023-02-26T18:39:51.355744",
     "status": "completed"
    },
    "tags": []
   },
   "outputs": [],
   "source": [
    "def softmax(x):\n",
    "    \"\"\"Compute softmax values for each sets of scores in x.\"\"\"\n",
    "    e_x = np.exp(x - np.max(x))\n",
    "    return e_x / e_x.sum()"
   ]
  },
  {
   "cell_type": "code",
   "execution_count": 13,
   "id": "47a6eea8",
   "metadata": {
    "execution": {
     "iopub.execute_input": "2023-07-20T20:11:07.402975Z",
     "iopub.status.busy": "2023-07-20T20:11:07.402736Z",
     "iopub.status.idle": "2023-07-20T20:11:07.605758Z",
     "shell.execute_reply": "2023-07-20T20:11:07.605153Z"
    },
    "papermill": {
     "duration": 0.105775,
     "end_time": "2023-02-26T18:39:51.653525",
     "exception": false,
     "start_time": "2023-02-26T18:39:51.547750",
     "status": "completed"
    },
    "tags": []
   },
   "outputs": [
    {
     "data": {
      "text/plain": [
       "0.9833281333333335"
      ]
     },
     "execution_count": 13,
     "metadata": {},
     "output_type": "execute_result"
    }
   ],
   "source": [
    "roc_auc_score(np.array(true_label),[softmax(i) for i in np.array(pred_score)], multi_class='ovr')"
   ]
  },
  {
   "attachments": {},
   "cell_type": "markdown",
   "id": "1bccb6bc",
   "metadata": {
    "papermill": {
     "duration": 0.089421,
     "end_time": "2023-02-26T18:39:51.834655",
     "exception": false,
     "start_time": "2023-02-26T18:39:51.745234",
     "status": "completed"
    },
    "tags": []
   },
   "source": [
    "# ROC-CURVE\n"
   ]
  },
  {
   "cell_type": "code",
   "execution_count": 14,
   "id": "0396ebf0",
   "metadata": {
    "execution": {
     "iopub.execute_input": "2023-07-20T20:11:07.608895Z",
     "iopub.status.busy": "2023-07-20T20:11:07.608629Z",
     "iopub.status.idle": "2023-07-20T20:11:07.890852Z",
     "shell.execute_reply": "2023-07-20T20:11:07.890203Z"
    },
    "papermill": {
     "duration": 0.313634,
     "end_time": "2023-02-26T18:39:52.237506",
     "exception": false,
     "start_time": "2023-02-26T18:39:51.923872",
     "status": "completed"
    },
    "tags": []
   },
   "outputs": [
    {
     "data": {
      "image/png": "[encoded data removed]",
      "text/plain": [
       "<Figure size 640x480 with 1 Axes>"
      ]
     },
     "metadata": {},
     "output_type": "display_data"
    }
   ],
   "source": [
    "fpr = dict()\n",
    "tpr = dict()\n",
    "roc_auc = dict()\n",
    "lw=2\n",
    "for i in range(3):\n",
    "    fpr[i], tpr[i], _ = roc_curve(np.array(one_hot)[:, i], np.array(pred_score)[:, i])\n",
    "    roc_auc[i] = auc(fpr[i], tpr[i])\n",
    "colors = cycle(['blue', 'red', 'green'])\n",
    "for i, color in zip(range(3), colors):\n",
    "    plt.plot(fpr[i], tpr[i], color=color, lw=2,\n",
    "             label='ROC curve of class {0} (area = {1:0.6f})'\n",
    "             ''.format(i, roc_auc[i]))\n",
    "plt.plot([0, 1], [0, 1], 'k--', lw=lw)\n",
    "plt.xlim([-0.05, 1.0])\n",
    "plt.ylim([0.0, 1.05])\n",
    "plt.xlabel('False Positive Rate')\n",
    "plt.ylabel('True Positive Rate')\n",
    "plt.title('Receiver operating characteristic for multi-class data')\n",
    "plt.legend(loc=\"lower right\")\n",
    "plt.show()"
   ]
  }
 ],
 "metadata": {
  "kernelspec": {
   "display_name": "Python 3 (ipykernel)",
   "language": "python",
   "name": "python3"
  },
  "language_info": {
   "codemirror_mode": {
    "name": "ipython",
    "version": 3
   },
   "file_extension": ".py",
   "mimetype": "text/x-python",
   "name": "python",
   "nbconvert_exporter": "python",
   "pygments_lexer": "ipython3",
   "version": "3.10.12"
  },
  "papermill": {
   "default_parameters": {},
   "duration": 1183.333041,
   "end_time": "2023-02-26T18:39:54.458046",
   "environment_variables": {},
   "exception": null,
   "input_path": "__notebook__.ipynb",
   "output_path": "__notebook__.ipynb",
   "parameters": {},
   "start_time": "2023-02-26T18:20:11.125005",
   "version": "2.4.0"
  },
  "vscode": {
   "interpreter": {
    "hash": "916dbcbb3f70747c44a77c7bcd40155683ae19c65e1c03b4aa3499c5328201f1"
   }
  }
 },
 "nbformat": 4,
 "nbformat_minor": 5
}
