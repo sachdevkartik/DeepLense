{
 "cells": [
  {
   "attachments": {},
   "cell_type": "markdown",
   "id": "28a9bc22",
   "metadata": {
    "papermill": {
     "duration": 0.004836,
     "end_time": "2023-02-26T18:20:33.518827",
     "exception": false,
     "start_time": "2023-02-26T18:20:33.513991",
     "status": "completed"
    },
    "tags": []
   },
   "source": [
    "# C8Steerable CNN\n"
   ]
  },
  {
   "cell_type": "code",
   "execution_count": 1,
   "id": "4913b545",
   "metadata": {
    "execution": {
     "iopub.execute_input": "2023-06-29T21:18:56.624806Z",
     "iopub.status.busy": "2023-06-29T21:18:56.623859Z",
     "iopub.status.idle": "2023-06-29T21:19:31.846534Z",
     "shell.execute_reply": "2023-06-29T21:19:31.845131Z"
    }
   },
   "outputs": [
    {
     "name": "stderr",
     "output_type": "stream",
     "text": [
      "Downloading...\n",
      "From (uriginal): https://drive.google.com/uc?id=1vGkfEgEiapZoHUt1E6Tlhi-hKJ7dF2Ke\n",
      "From (redirected): https://drive.google.com/uc?id=1vGkfEgEiapZoHUt1E6Tlhi-hKJ7dF2Ke&confirm=t&uuid=8ea187d1-8604-4c59-8afd-851567b9f57f\n",
      "To: /opt/repo/GSoC-23/data/Model_IV.tgz\n",
      "100%|██████████| 1.19G/1.19G [00:10<00:00, 114MB/s]\n"
     ]
    }
   ],
   "source": [
    "try:\n",
    "    done\n",
    "except:\n",
    "    import os\n",
    "\n",
    "    os.chdir(\"../../\")\n",
    "    from utils.download import download\n",
    "    from utils.extract import extract\n",
    "\n",
    "    args = {\"model\": \"Model-4\"}\n",
    "    download(args)\n",
    "    extract(\"data/Model_IV.tgz\", \"data/\")\n",
    "    done = True"
   ]
  },
  {
   "cell_type": "code",
   "execution_count": 2,
   "id": "7db64282",
   "metadata": {
    "_cell_guid": "b1076dfc-b9ad-4769-8c92-a6c4dae69d19",
    "_uuid": "8f2839f25d086af736a60e9eeb907d3b93b6e0e5",
    "execution": {
     "iopub.execute_input": "2023-06-29T21:19:31.856036Z",
     "iopub.status.busy": "2023-06-29T21:19:31.855427Z",
     "iopub.status.idle": "2023-06-29T21:19:37.882823Z",
     "shell.execute_reply": "2023-06-29T21:19:37.881439Z"
    },
    "papermill": {
     "duration": 4.22969,
     "end_time": "2023-02-26T18:20:37.753361",
     "exception": false,
     "start_time": "2023-02-26T18:20:33.523671",
     "status": "completed"
    },
    "tags": []
   },
   "outputs": [],
   "source": [
    "import copy\n",
    "import random\n",
    "import warnings\n",
    "\n",
    "import matplotlib.pyplot as plt\n",
    "import numpy as np\n",
    "import torch\n",
    "import torch.optim as optim\n",
    "import torchvision.datasets as datasets\n",
    "import torchvision.transforms as transforms\n",
    "from torch.utils.data import WeightedRandomSampler\n",
    "\n",
    "\n",
    "from itertools import cycle\n",
    "from PIL import Image\n",
    "from sklearn.metrics import (\n",
    "    auc,\n",
    "    confusion_matrix,\n",
    "    ConfusionMatrixDisplay,\n",
    "    roc_auc_score,\n",
    "    roc_curve,\n",
    ")\n",
    "from torch import optim\n",
    "from torch.utils.data import DataLoader\n",
    "from torchvision import datasets, transforms\n",
    "\n",
    "\n",
    "from tqdm import tqdm\n",
    "\n",
    "warnings.filterwarnings(\"ignore\")"
   ]
  },
  {
   "attachments": {},
   "cell_type": "markdown",
   "id": "8b7df613",
   "metadata": {
    "papermill": {
     "duration": 0.00477,
     "end_time": "2023-02-26T18:20:37.763344",
     "exception": false,
     "start_time": "2023-02-26T18:20:37.758574",
     "status": "completed"
    },
    "tags": []
   },
   "source": [
    "# Data Preparation\n"
   ]
  },
  {
   "cell_type": "code",
   "execution_count": 3,
   "id": "98c728a5",
   "metadata": {
    "execution": {
     "iopub.execute_input": "2023-06-29T21:19:37.890812Z",
     "iopub.status.busy": "2023-06-29T21:19:37.890109Z",
     "iopub.status.idle": "2023-06-29T21:19:37.898200Z",
     "shell.execute_reply": "2023-06-29T21:19:37.896653Z"
    }
   },
   "outputs": [],
   "source": [
    "train_transforms = transforms.Compose([\n",
    "    transforms.Resize(256),\n",
    "    transforms.RandomRotation(180),\n",
    "    transforms.ColorJitter(brightness=(0.8, 1.2)),\n",
    "    transforms.Resize(128),\n",
    "    transforms.Grayscale(num_output_channels=1),\n",
    "    transforms.ToTensor()\n",
    "])\n",
    "\n",
    "test_transforms = transforms.Compose([\n",
    "    transforms.Resize(128),\n",
    "    transforms.Grayscale(num_output_channels=1),\n",
    "    transforms.ToTensor()\n",
    "])"
   ]
  },
  {
   "cell_type": "code",
   "execution_count": 4,
   "id": "e11b8596",
   "metadata": {
    "execution": {
     "iopub.execute_input": "2023-06-29T21:19:37.902639Z",
     "iopub.status.busy": "2023-06-29T21:19:37.902156Z",
     "iopub.status.idle": "2023-06-29T21:22:08.218506Z",
     "shell.execute_reply": "2023-06-29T21:22:08.217477Z"
    },
    "papermill": {
     "duration": 0.018594,
     "end_time": "2023-02-26T18:20:37.786759",
     "exception": false,
     "start_time": "2023-02-26T18:20:37.768165",
     "status": "completed"
    },
    "tags": []
   },
   "outputs": [
    {
     "name": "stderr",
     "output_type": "stream",
     "text": [
      "100%|██████████| 34045/34045 [02:29<00:00, 227.03it/s]\n"
     ]
    }
   ],
   "source": [
    "def npy_loader(path):\n",
    "    sample = np.load(path, allow_pickle=True)[0]\n",
    "    sample = 255 * (sample / sample.max())\n",
    "    sample = Image.fromarray(sample.astype('uint8')).convert(\"RGB\")\n",
    "    return sample\n",
    "    \n",
    "\n",
    "dataset = datasets.DatasetFolder(\n",
    "    root='data/Model_VI',\n",
    "    loader=npy_loader,\n",
    "    extensions=['.npy'],\n",
    "    transform = train_transforms\n",
    ")\n",
    "\n",
    "\n",
    "\n",
    "\n",
    "n = len(dataset)  # total number of examples\n",
    "n_test = int(0.1 * n)  # take ~10% for test\n",
    "indices = [i for i in range(n)]\n",
    "random.shuffle(indices)\n",
    "testset = torch.utils.data.Subset(dataset, indices[:n_test])  # take first 10%\n",
    "trainset = torch.utils.data.Subset(dataset, indices[n_test:n])  # take the rest  \n",
    "testset.dataset.transform = test_transforms\n",
    "trainset.dataset.transform = train_transforms\n",
    "\n",
    "\n",
    "# Calculate the class frequencies in the training set\n",
    "trainset_targets = [i[1] for i in tqdm(trainset)] \n",
    "class_counts = torch.bincount(torch.tensor(trainset_targets))\n",
    "class_weights = 1.0 / class_counts.float()\n",
    "\n",
    "# Compute the weights for each example in the training set\n",
    "train_weights = class_weights[trainset_targets]\n",
    "\n",
    "# Create a sampler using the computed weights for oversampling\n",
    "oversampler = WeightedRandomSampler(train_weights, len(trainset), replacement=True)\n",
    "\n",
    "train_loader = torch.utils.data.DataLoader(trainset, batch_size=64)\n",
    "test_loader = torch.utils.data.DataLoader(testset, batch_size=64,shuffle=True)"
   ]
  },
  {
   "cell_type": "code",
   "execution_count": 5,
   "id": "c541bb71",
   "metadata": {
    "execution": {
     "iopub.execute_input": "2023-06-29T21:22:08.223287Z",
     "iopub.status.busy": "2023-06-29T21:22:08.222890Z",
     "iopub.status.idle": "2023-06-29T21:22:08.287759Z",
     "shell.execute_reply": "2023-06-29T21:22:08.286763Z"
    },
    "papermill": {
     "duration": 0.288414,
     "end_time": "2023-02-26T18:20:38.079912",
     "exception": false,
     "start_time": "2023-02-26T18:20:37.791498",
     "status": "completed"
    },
    "tags": []
   },
   "outputs": [],
   "source": [
    "lr = 0.0001\n",
    "epochs = 10\n",
    "gamma = 0.7\n",
    "batch_size = 64\n",
    "device = \"cuda\" if torch.cuda.is_available() else \"cpu\""
   ]
  },
  {
   "attachments": {},
   "cell_type": "markdown",
   "id": "337703e9",
   "metadata": {
    "papermill": {
     "duration": 0.005167,
     "end_time": "2023-02-26T18:20:38.096424",
     "exception": false,
     "start_time": "2023-02-26T18:20:38.091257",
     "status": "completed"
    },
    "tags": []
   },
   "source": [
    "# Model\n"
   ]
  },
  {
   "cell_type": "code",
   "execution_count": 6,
   "id": "e7b978f6",
   "metadata": {
    "execution": {
     "iopub.execute_input": "2023-06-29T21:22:08.292023Z",
     "iopub.status.busy": "2023-06-29T21:22:08.291707Z",
     "iopub.status.idle": "2023-06-29T21:22:24.955632Z",
     "shell.execute_reply": "2023-06-29T21:22:24.953698Z"
    },
    "papermill": {
     "duration": 0.028747,
     "end_time": "2023-02-26T18:20:38.130529",
     "exception": false,
     "start_time": "2023-02-26T18:20:38.101782",
     "status": "completed"
    },
    "tags": []
   },
   "outputs": [],
   "source": [
    "from models import C8SCNN\n",
    "\n",
    "model = C8SCNN(3).to(device)\n",
    "\n",
    "criterion = torch.nn.CrossEntropyLoss()\n",
    "optimizer = optim.Adam(model.parameters(), lr=lr)\n",
    "scheduler = optim.lr_scheduler.StepLR(optimizer, step_size=5, gamma=gamma)"
   ]
  },
  {
   "attachments": {},
   "cell_type": "markdown",
   "id": "6d5d9ce7",
   "metadata": {
    "papermill": {
     "duration": 0.004681,
     "end_time": "2023-02-26T18:20:49.389497",
     "exception": false,
     "start_time": "2023-02-26T18:20:49.384816",
     "status": "completed"
    },
    "tags": []
   },
   "source": [
    "# Training\n"
   ]
  },
  {
   "cell_type": "code",
   "execution_count": 7,
   "id": "b6bd0abb",
   "metadata": {
    "execution": {
     "iopub.execute_input": "2023-06-29T21:22:24.961576Z",
     "iopub.status.busy": "2023-06-29T21:22:24.961019Z",
     "iopub.status.idle": "2023-06-29T22:55:33.075510Z",
     "shell.execute_reply": "2023-06-29T22:55:33.073221Z"
    },
    "papermill": {
     "duration": 1134.918433,
     "end_time": "2023-02-26T18:39:44.312733",
     "exception": false,
     "start_time": "2023-02-26T18:20:49.394300",
     "status": "completed"
    },
    "tags": []
   },
   "outputs": [
    {
     "name": "stderr",
     "output_type": "stream",
     "text": [
      "100%|██████████| 532/532 [09:10<00:00,  1.03s/it]\n",
      "100%|██████████| 60/60 [00:28<00:00,  2.08it/s]\n"
     ]
    },
    {
     "name": "stdout",
     "output_type": "stream",
     "text": [
      "Epoch : 1 - loss : 1.0647 - acc: 41.2895% - val_loss : 1.0163 - val_acc: 44.8176%\n"
     ]
    },
    {
     "name": "stderr",
     "output_type": "stream",
     "text": [
      "100%|██████████| 532/532 [09:04<00:00,  1.02s/it]\n",
      "100%|██████████| 60/60 [00:28<00:00,  2.10it/s]\n"
     ]
    },
    {
     "name": "stdout",
     "output_type": "stream",
     "text": [
      "Epoch : 2 - loss : 1.0155 - acc: 45.7483% - val_loss : 1.0035 - val_acc: 46.1132%\n"
     ]
    },
    {
     "name": "stderr",
     "output_type": "stream",
     "text": [
      "100%|██████████| 532/532 [09:00<00:00,  1.02s/it]\n",
      "100%|██████████| 60/60 [00:26<00:00,  2.26it/s]\n"
     ]
    },
    {
     "name": "stdout",
     "output_type": "stream",
     "text": [
      "Epoch : 3 - loss : 1.0071 - acc: 46.3504% - val_loss : 0.9970 - val_acc: 48.2813%\n"
     ]
    },
    {
     "name": "stderr",
     "output_type": "stream",
     "text": [
      "100%|██████████| 532/532 [08:45<00:00,  1.01it/s]\n",
      "100%|██████████| 60/60 [00:26<00:00,  2.28it/s]\n"
     ]
    },
    {
     "name": "stdout",
     "output_type": "stream",
     "text": [
      "Epoch : 4 - loss : 1.0051 - acc: 46.8028% - val_loss : 0.9992 - val_acc: 49.3390%\n"
     ]
    },
    {
     "name": "stderr",
     "output_type": "stream",
     "text": [
      "100%|██████████| 532/532 [08:45<00:00,  1.01it/s]\n",
      "100%|██████████| 60/60 [00:26<00:00,  2.28it/s]\n"
     ]
    },
    {
     "name": "stdout",
     "output_type": "stream",
     "text": [
      "Epoch : 5 - loss : 1.0040 - acc: 46.8850% - val_loss : 0.9955 - val_acc: 49.3390%\n"
     ]
    },
    {
     "name": "stderr",
     "output_type": "stream",
     "text": [
      "100%|██████████| 532/532 [08:42<00:00,  1.02it/s]\n",
      "100%|██████████| 60/60 [00:26<00:00,  2.27it/s]\n"
     ]
    },
    {
     "name": "stdout",
     "output_type": "stream",
     "text": [
      "Epoch : 6 - loss : 1.0028 - acc: 47.0583% - val_loss : 1.0006 - val_acc: 49.2597%\n"
     ]
    },
    {
     "name": "stderr",
     "output_type": "stream",
     "text": [
      "100%|██████████| 532/532 [08:42<00:00,  1.02it/s]\n",
      "100%|██████████| 60/60 [00:26<00:00,  2.25it/s]\n"
     ]
    },
    {
     "name": "stdout",
     "output_type": "stream",
     "text": [
      "Epoch : 7 - loss : 1.0031 - acc: 47.0789% - val_loss : 0.9947 - val_acc: 49.3125%\n"
     ]
    },
    {
     "name": "stderr",
     "output_type": "stream",
     "text": [
      "100%|██████████| 532/532 [08:44<00:00,  1.01it/s]\n",
      "100%|██████████| 60/60 [00:26<00:00,  2.28it/s]\n"
     ]
    },
    {
     "name": "stdout",
     "output_type": "stream",
     "text": [
      "Epoch : 8 - loss : 1.0023 - acc: 47.2110% - val_loss : 1.0012 - val_acc: 49.2861%\n"
     ]
    },
    {
     "name": "stderr",
     "output_type": "stream",
     "text": [
      "100%|██████████| 532/532 [08:43<00:00,  1.02it/s]\n",
      "100%|██████████| 60/60 [00:25<00:00,  2.33it/s]\n"
     ]
    },
    {
     "name": "stdout",
     "output_type": "stream",
     "text": [
      "Epoch : 9 - loss : 1.0030 - acc: 47.2522% - val_loss : 0.9972 - val_acc: 49.3919%\n"
     ]
    },
    {
     "name": "stderr",
     "output_type": "stream",
     "text": [
      "100%|██████████| 532/532 [08:45<00:00,  1.01it/s]\n",
      "100%|██████████| 60/60 [00:26<00:00,  2.24it/s]"
     ]
    },
    {
     "name": "stdout",
     "output_type": "stream",
     "text": [
      "Epoch : 10 - loss : 1.0015 - acc: 47.1611% - val_loss : 0.9987 - val_acc: 47.9640%\n"
     ]
    },
    {
     "name": "stderr",
     "output_type": "stream",
     "text": [
      "\n"
     ]
    }
   ],
   "source": [
    "all_train_loss = []\n",
    "all_test_loss = []\n",
    "all_train_accuracy = []\n",
    "all_test_accuracy = []\n",
    "\n",
    "best_accuracy = 0\n",
    "\n",
    "for epoch in range(epochs):\n",
    "    epoch_loss = 0\n",
    "    epoch_accuracy = 0\n",
    "    correct, total = 0, 0\n",
    "    model.train()\n",
    "    tr_loss_epoch = []\n",
    "    test_loss_epoch = []\n",
    "    for data, label in tqdm(train_loader):\n",
    "        data = data.to(device)\n",
    "        label = label.to(device)\n",
    "\n",
    "        output = model(data)\n",
    "        loss = criterion(output, label)\n",
    "        tr_loss_epoch.append(loss.item())\n",
    "        optimizer.zero_grad()\n",
    "        loss.backward()\n",
    "        optimizer.step()\n",
    "        acc = (output.argmax(dim=1) == label).sum()\n",
    "        correct += acc.item()\n",
    "        total += len(label)\n",
    "\n",
    "        epoch_loss += loss / len(train_loader)\n",
    "    scheduler.step()\n",
    "    all_train_loss.append(np.asarray(tr_loss_epoch))\n",
    "    all_train_accuracy.append(correct / total * 100)\n",
    "    epoch_accuracy = (correct / total) * 100\n",
    "    correct, total = 0, 0\n",
    "\n",
    "    torch.cuda.empty_cache()\n",
    "    with torch.no_grad():\n",
    "        epoch_val_accuracy = 0\n",
    "        epoch_val_loss = 0\n",
    "        for data, label in tqdm(test_loader):\n",
    "            data = data.to(device)\n",
    "            label = label.to(device)\n",
    "\n",
    "            val_output = model(data)\n",
    "            val_loss = criterion(val_output, label)\n",
    "            test_loss_epoch.append(val_loss.item())\n",
    "            acc = (val_output.argmax(dim=1) == label).sum()\n",
    "            correct += acc.item()\n",
    "            total += len(label)\n",
    "\n",
    "            epoch_val_loss += val_loss / len(test_loader)\n",
    "        all_test_loss.append(np.asarray(test_loss_epoch))\n",
    "        all_test_accuracy.append(correct / total * 100)\n",
    "    epoch_val_accuracy = (correct / total) * 100\n",
    "\n",
    "    if epoch_val_accuracy > best_accuracy:\n",
    "        best_accuracy = epoch_val_accuracy\n",
    "        best_model = copy.deepcopy(model)\n",
    "\n",
    "    print(\n",
    "        f\"Epoch : {epoch+1} - loss : {epoch_loss:.4f} - acc: {epoch_accuracy:.4f}% - val_loss : {epoch_val_loss:.4f} - val_acc: {epoch_val_accuracy:.4f}%\"\n",
    "    )\n",
    "torch.save(best_model.state_dict(), \"equi_nn.pth\")\n",
    "all_train_loss_mean = [j.mean() for j in all_train_loss]\n",
    "all_test_loss_mean = [j.mean() for j in all_test_loss]"
   ]
  },
  {
   "attachments": {},
   "cell_type": "markdown",
   "id": "c6ed3fe3",
   "metadata": {
    "papermill": {
     "duration": 0.088846,
     "end_time": "2023-02-26T18:39:44.489827",
     "exception": false,
     "start_time": "2023-02-26T18:39:44.400981",
     "status": "completed"
    },
    "tags": []
   },
   "source": [
    "# Plotting Loss and Accuracy\n"
   ]
  },
  {
   "cell_type": "code",
   "execution_count": 8,
   "id": "63766ee9",
   "metadata": {
    "execution": {
     "iopub.execute_input": "2023-06-29T22:55:33.082159Z",
     "iopub.status.busy": "2023-06-29T22:55:33.081574Z",
     "iopub.status.idle": "2023-06-29T22:55:34.247317Z",
     "shell.execute_reply": "2023-06-29T22:55:34.245589Z"
    },
    "papermill": {
     "duration": 0.608392,
     "end_time": "2023-02-26T18:39:45.185365",
     "exception": false,
     "start_time": "2023-02-26T18:39:44.576973",
     "status": "completed"
    },
    "tags": []
   },
   "outputs": [
    {
     "data": {
      "text/plain": [
       "[<matplotlib.lines.Line2D at 0x7f49f9dbf8b0>]"
      ]
     },
     "execution_count": 8,
     "metadata": {},
     "output_type": "execute_result"
    },
    {
     "data": {
      "image/png": "[encoded data removed]",
      "text/plain": [
       "<Figure size 1200x800 with 4 Axes>"
      ]
     },
     "metadata": {},
     "output_type": "display_data"
    }
   ],
   "source": [
    "figure = plt.figure(figsize=(12, 8))\n",
    "cols, rows = 2, 2\n",
    "figure.add_subplot(rows, cols, 1)\n",
    "plt.title(\"Train loss Mean\")\n",
    "plt.plot(all_train_loss_mean)\n",
    "figure.add_subplot(rows, cols, 2)\n",
    "plt.title(\"Test loss Mean\")\n",
    "plt.plot(all_test_loss_mean)\n",
    "figure.add_subplot(rows, cols, 3)\n",
    "plt.title(\"Train accuracy Mean\")\n",
    "plt.plot(all_train_accuracy)\n",
    "figure.add_subplot(rows, cols, 4)\n",
    "plt.title(\"Test accuracy Mean\")\n",
    "plt.plot(all_test_accuracy)"
   ]
  },
  {
   "attachments": {},
   "cell_type": "markdown",
   "id": "71719fa2",
   "metadata": {
    "papermill": {
     "duration": 0.097537,
     "end_time": "2023-02-26T18:39:45.372772",
     "exception": false,
     "start_time": "2023-02-26T18:39:45.275235",
     "status": "completed"
    },
    "tags": []
   },
   "source": [
    "# Loading Best Model\n"
   ]
  },
  {
   "cell_type": "code",
   "execution_count": 9,
   "id": "d07b2629",
   "metadata": {
    "execution": {
     "iopub.execute_input": "2023-06-29T22:55:34.254878Z",
     "iopub.status.busy": "2023-06-29T22:55:34.254188Z",
     "iopub.status.idle": "2023-06-29T22:55:49.512519Z",
     "shell.execute_reply": "2023-06-29T22:55:49.511631Z"
    },
    "papermill": {
     "duration": 0.167712,
     "end_time": "2023-02-26T18:39:45.629158",
     "exception": false,
     "start_time": "2023-02-26T18:39:45.461446",
     "status": "completed"
    },
    "tags": []
   },
   "outputs": [
    {
     "data": {
      "text/plain": [
       "_IncompatibleKeys(missing_keys=['block1.1.filter', 'block2.0.filter', 'block3.0.filter', 'block4.0.filter', 'block5.0.filter', 'block6.0.filter'], unexpected_keys=[])"
      ]
     },
     "execution_count": 9,
     "metadata": {},
     "output_type": "execute_result"
    }
   ],
   "source": [
    "model = C8SCNN(3).to(device)\n",
    "model.load_state_dict(torch.load(\"equi_nn.pth\"), strict=False)"
   ]
  },
  {
   "attachments": {},
   "cell_type": "markdown",
   "id": "4e685329",
   "metadata": {
    "papermill": {
     "duration": 0.088101,
     "end_time": "2023-02-26T18:39:45.807045",
     "exception": false,
     "start_time": "2023-02-26T18:39:45.718944",
     "status": "completed"
    },
    "tags": []
   },
   "source": [
    "# Testing\n"
   ]
  },
  {
   "cell_type": "code",
   "execution_count": 10,
   "id": "99b12bcf",
   "metadata": {
    "execution": {
     "iopub.execute_input": "2023-06-29T22:55:49.517250Z",
     "iopub.status.busy": "2023-06-29T22:55:49.516914Z",
     "iopub.status.idle": "2023-06-29T22:56:15.862968Z",
     "shell.execute_reply": "2023-06-29T22:56:15.861515Z"
    },
    "papermill": {
     "duration": 4.256545,
     "end_time": "2023-02-26T18:39:50.151060",
     "exception": false,
     "start_time": "2023-02-26T18:39:45.894515",
     "status": "completed"
    },
    "tags": []
   },
   "outputs": [
    {
     "name": "stderr",
     "output_type": "stream",
     "text": [
      "100%|██████████| 60/60 [00:26<00:00,  2.28it/s]\n"
     ]
    }
   ],
   "source": [
    "true_label, pred_label, pred_score, one_hot = [], [], [], []\n",
    "with torch.no_grad():\n",
    "    model.eval()\n",
    "    for i, (x, y) in enumerate(tqdm(test_loader)):\n",
    "        x = x.to(device)\n",
    "        y = y.to(device)\n",
    "        _y = model(x)\n",
    "\n",
    "        _, pred = torch.max(_y.data, 1)\n",
    "        true_label += y.tolist()\n",
    "        pred_label += pred.tolist()\n",
    "        pred_score += _y.tolist()\n",
    "        one_hot += np.eye(3)[y.cpu().numpy()].tolist()"
   ]
  },
  {
   "attachments": {},
   "cell_type": "markdown",
   "id": "ddda1893",
   "metadata": {
    "papermill": {
     "duration": 0.138248,
     "end_time": "2023-02-26T18:39:50.468855",
     "exception": false,
     "start_time": "2023-02-26T18:39:50.330607",
     "status": "completed"
    },
    "tags": []
   },
   "source": [
    "# Confusion Matrix\n"
   ]
  },
  {
   "cell_type": "code",
   "execution_count": 11,
   "id": "063eed06",
   "metadata": {
    "execution": {
     "iopub.execute_input": "2023-06-29T22:56:15.869158Z",
     "iopub.status.busy": "2023-06-29T22:56:15.868562Z",
     "iopub.status.idle": "2023-06-29T22:56:16.234007Z",
     "shell.execute_reply": "2023-06-29T22:56:16.233085Z"
    },
    "papermill": {
     "duration": 0.389642,
     "end_time": "2023-02-26T18:39:50.975049",
     "exception": false,
     "start_time": "2023-02-26T18:39:50.585407",
     "status": "completed"
    },
    "tags": []
   },
   "outputs": [
    {
     "data": {
      "text/plain": [
       "<sklearn.metrics._plot.confusion_matrix.ConfusionMatrixDisplay at 0x7f49f9e9ed70>"
      ]
     },
     "execution_count": 11,
     "metadata": {},
     "output_type": "execute_result"
    },
    {
     "data": {
      "image/png": "[encoded data removed]",
      "text/plain": [
       "<Figure size 640x480 with 2 Axes>"
      ]
     },
     "metadata": {},
     "output_type": "display_data"
    }
   ],
   "source": [
    "ConfusionMatrixDisplay(confusion_matrix=confusion_matrix(true_label, pred_label)).plot()"
   ]
  },
  {
   "attachments": {},
   "cell_type": "markdown",
   "id": "6d00ac58",
   "metadata": {
    "papermill": {
     "duration": 0.144227,
     "end_time": "2023-02-26T18:39:51.259566",
     "exception": false,
     "start_time": "2023-02-26T18:39:51.115339",
     "status": "completed"
    },
    "tags": []
   },
   "source": [
    "# AUC Score\n"
   ]
  },
  {
   "cell_type": "code",
   "execution_count": 12,
   "id": "13effc9c",
   "metadata": {
    "execution": {
     "iopub.execute_input": "2023-06-29T22:56:16.240066Z",
     "iopub.status.busy": "2023-06-29T22:56:16.239082Z",
     "iopub.status.idle": "2023-06-29T22:56:16.246932Z",
     "shell.execute_reply": "2023-06-29T22:56:16.245080Z"
    },
    "papermill": {
     "duration": 0.100354,
     "end_time": "2023-02-26T18:39:51.456098",
     "exception": false,
     "start_time": "2023-02-26T18:39:51.355744",
     "status": "completed"
    },
    "tags": []
   },
   "outputs": [],
   "source": [
    "def softmax(x):\n",
    "    \"\"\"Compute softmax values for each sets of scores in x.\"\"\"\n",
    "    e_x = np.exp(x - np.max(x))\n",
    "    return e_x / e_x.sum()"
   ]
  },
  {
   "cell_type": "code",
   "execution_count": 13,
   "id": "47a6eea8",
   "metadata": {
    "execution": {
     "iopub.execute_input": "2023-06-29T22:56:16.253099Z",
     "iopub.status.busy": "2023-06-29T22:56:16.252468Z",
     "iopub.status.idle": "2023-06-29T22:56:16.378821Z",
     "shell.execute_reply": "2023-06-29T22:56:16.377959Z"
    },
    "papermill": {
     "duration": 0.105775,
     "end_time": "2023-02-26T18:39:51.653525",
     "exception": false,
     "start_time": "2023-02-26T18:39:51.547750",
     "status": "completed"
    },
    "tags": []
   },
   "outputs": [
    {
     "data": {
      "text/plain": [
       "0.5049718770067201"
      ]
     },
     "execution_count": 13,
     "metadata": {},
     "output_type": "execute_result"
    }
   ],
   "source": [
    "roc_auc_score(np.array(true_label),[softmax(i) for i in np.array(pred_score)], multi_class='ovr')"
   ]
  },
  {
   "attachments": {},
   "cell_type": "markdown",
   "id": "1bccb6bc",
   "metadata": {
    "papermill": {
     "duration": 0.089421,
     "end_time": "2023-02-26T18:39:51.834655",
     "exception": false,
     "start_time": "2023-02-26T18:39:51.745234",
     "status": "completed"
    },
    "tags": []
   },
   "source": [
    "# ROC-CURVE\n"
   ]
  },
  {
   "cell_type": "code",
   "execution_count": 14,
   "id": "0396ebf0",
   "metadata": {
    "execution": {
     "iopub.execute_input": "2023-06-29T22:56:16.384072Z",
     "iopub.status.busy": "2023-06-29T22:56:16.383270Z",
     "iopub.status.idle": "2023-06-29T22:56:16.715606Z",
     "shell.execute_reply": "2023-06-29T22:56:16.714738Z"
    },
    "papermill": {
     "duration": 0.313634,
     "end_time": "2023-02-26T18:39:52.237506",
     "exception": false,
     "start_time": "2023-02-26T18:39:51.923872",
     "status": "completed"
    },
    "tags": []
   },
   "outputs": [
    {
     "data": {
      "image/png": "[encoded data removed]",
      "text/plain": [
       "<Figure size 640x480 with 1 Axes>"
      ]
     },
     "metadata": {},
     "output_type": "display_data"
    }
   ],
   "source": [
    "fpr = dict()\n",
    "tpr = dict()\n",
    "roc_auc = dict()\n",
    "lw=2\n",
    "for i in range(3):\n",
    "    fpr[i], tpr[i], _ = roc_curve(np.array(one_hot)[:, i], np.array(pred_score)[:, i])\n",
    "    roc_auc[i] = auc(fpr[i], tpr[i])\n",
    "colors = cycle(['blue', 'red', 'green'])\n",
    "for i, color in zip(range(3), colors):\n",
    "    plt.plot(fpr[i], tpr[i], color=color, lw=2,\n",
    "             label='ROC curve of class {0} (area = {1:0.6f})'\n",
    "             ''.format(i, roc_auc[i]))\n",
    "plt.plot([0, 1], [0, 1], 'k--', lw=lw)\n",
    "plt.xlim([-0.05, 1.0])\n",
    "plt.ylim([0.0, 1.05])\n",
    "plt.xlabel('False Positive Rate')\n",
    "plt.ylabel('True Positive Rate')\n",
    "plt.title('Receiver operating characteristic for multi-class data')\n",
    "plt.legend(loc=\"lower right\")\n",
    "plt.show()"
   ]
  }
 ],
 "metadata": {
  "kernelspec": {
   "display_name": "Python 3 (ipykernel)",
   "language": "python",
   "name": "python3"
  },
  "language_info": {
   "codemirror_mode": {
    "name": "ipython",
    "version": 3
   },
   "file_extension": ".py",
   "mimetype": "text/x-python",
   "name": "python",
   "nbconvert_exporter": "python",
   "pygments_lexer": "ipython3",
   "version": "3.10.10"
  },
  "papermill": {
   "default_parameters": {},
   "duration": 1183.333041,
   "end_time": "2023-02-26T18:39:54.458046",
   "environment_variables": {},
   "exception": null,
   "input_path": "__notebook__.ipynb",
   "output_path": "__notebook__.ipynb",
   "parameters": {},
   "start_time": "2023-02-26T18:20:11.125005",
   "version": "2.4.0"
  },
  "vscode": {
   "interpreter": {
    "hash": "916dbcbb3f70747c44a77c7bcd40155683ae19c65e1c03b4aa3499c5328201f1"
   }
  }
 },
 "nbformat": 4,
 "nbformat_minor": 5
}
